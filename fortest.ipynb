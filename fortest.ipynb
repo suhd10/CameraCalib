{
 "cells": [
  {
   "cell_type": "code",
   "execution_count": 2,
   "metadata": {},
   "outputs": [],
   "source": [
    "import numpy as np\n",
    "from utils import deproject_pixel_to_point,transform_img2angle"
   ]
  },
  {
   "cell_type": "code",
   "execution_count": 3,
   "metadata": {},
   "outputs": [
    {
     "name": "stdout",
     "output_type": "stream",
     "text": [
      "[-0.001248817654112608, -0.00039127892594789426, 1]\n",
      "[0.07155194376592473, 0.022418629925134846]\n"
     ]
    }
   ],
   "source": [
    "mtx = np.load('mtx.npy')\n",
    "dist = np.load('dist.npy')\n",
    "xyz = deproject_pixel_to_point(mtx, dist, 314, 225, 1)\n",
    "angle = transform_img2angle(mtx, dist, 314, 225)\n",
    "print(xyz)\n",
    "print(angle)"
   ]
  },
  {
   "cell_type": "code",
   "execution_count": 4,
   "metadata": {},
   "outputs": [
    {
     "name": "stdout",
     "output_type": "stream",
     "text": [
      "[[635.73724658   0.         314.79391612]\n",
      " [  0.         637.11647113 225.24928943]\n",
      " [  0.           0.           1.        ]]\n"
     ]
    }
   ],
   "source": [
    "print(mtx)"
   ]
  },
  {
   "cell_type": "code",
   "execution_count": null,
   "metadata": {},
   "outputs": [],
   "source": []
  }
 ],
 "metadata": {
  "kernelspec": {
   "display_name": "mycobot2",
   "language": "python",
   "name": "python3"
  },
  "language_info": {
   "codemirror_mode": {
    "name": "ipython",
    "version": 3
   },
   "file_extension": ".py",
   "mimetype": "text/x-python",
   "name": "python",
   "nbconvert_exporter": "python",
   "pygments_lexer": "ipython3",
   "version": "3.9.7"
  },
  "orig_nbformat": 4,
  "vscode": {
   "interpreter": {
    "hash": "64c830b08e0b3ebbaeee79fa25350d9692d2a3dbfb67b82ce0b9226b52c2f60d"
   }
  }
 },
 "nbformat": 4,
 "nbformat_minor": 2
}
